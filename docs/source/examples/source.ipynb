{
 "cells": [
  {
   "cell_type": "markdown",
   "id": "9edefc4c-38bf-4a40-bd85-2d51dd01010a",
   "metadata": {},
   "source": [
    "# Source"
   ]
  },
  {
   "cell_type": "markdown",
   "id": "31cecc5c-58dc-49e3-8c87-a78d613b5cc6",
   "metadata": {},
   "source": [
    "The `Source` class provides an interface and predefined methods for reading raw data from file.\n",
    "If `source.use_h5 == True` the raw data will be saved and read preferentially from a generated `hdf5` file, which results in a single data file with high compression and fast data access.\n",
    "\n",
    "The `Source` class provides a `dict()` of all scans, called `scan_dict`.\n",
    "The items in this dictionary are instances of the `Scan` class, which defines the common data structure.\n",
    "However, the access to the scan data should NOT be done via the `scan_dict` directly, but instead for a deticated scan via `source.get_scan_data(scan_number)` or for a list of scans via `source.get_scan_list_data(scan_number_list)`.\n",
    "By this all features of the `Source` class can be provided.\n",
    "\n",
    "One key concept of the `pyEvalData` is the idea, that `Scan` instance must only provide the meta information of the scan but necessarily also its data.\n",
    "By the default, the scan data will only be read on request and is then stored in the `Scan` object for later use.\n",
    "It is possible, however to read all data to each scan by default by `source.read_all_data = Ture`.\n",
    "On the other hand, if the data is allocating too much memory, it is possible to clear the data from the `Scan` object, directly after accessing it, via `source.read_and_forget = True`.\n",
    "The flag `source.update_before_read` enables parsing the raw source file to search and add new scans before accessing any scan.\n",
    "By default the last `Scan` in the `scan_dict` will always be re-created in case new data was added.\n",
    "The flag `source.force_overwrite` will force a full parsing of the raw source file and a complete overwrite of the `hdf5` file.\n",
    "\n",
    "Any specific data source class must inherit from the base `Source` class and must only provide the two methods `parse_raw()` and `read_raw_ scan_data(scan)`, which parse the raw source to create the `scan_dict` and to read the actual scan data, respectivly.\n",
    "With that a rather generic interface for nearly any kind of data source should be possible."
   ]
  },
  {
   "cell_type": "markdown",
   "id": "e96983ba-66d5-46d5-8620-38d9a929f961",
   "metadata": {
    "jp-MarkdownHeadingCollapsed": true,
    "tags": []
   },
   "source": [
    "## Setup\n",
    "\n",
    "Here we do the necessary import for this example"
   ]
  },
  {
   "cell_type": "code",
   "execution_count": 1,
   "id": "ab69a1d7-6d05-42fd-906a-ed4f4bc6c0f4",
   "metadata": {},
   "outputs": [
    {
     "name": "stdout",
     "output_type": "stream",
     "text": [
      "h5py._conv - DEBUG: Creating converter from 7 to 5\n",
      "h5py._conv - DEBUG: Creating converter from 5 to 7\n",
      "h5py._conv - DEBUG: Creating converter from 7 to 5\n",
      "h5py._conv - DEBUG: Creating converter from 5 to 7\n",
      "cannot open database file c:\\users\\loc_schick\\general\\git\\xrayutilities\\lib\\xrayutilities\\materials\\data\\elements.db!\n"
     ]
    }
   ],
   "source": [
    "%load_ext autoreload\n",
    "%autoreload 2\n",
    "import matplotlib.pyplot as plt\n",
    "import numpy as np\n",
    "\n",
    "import pyEvalData as ped"
   ]
  },
  {
   "cell_type": "markdown",
   "id": "e4f761d7-92f0-4c38-ae3f-e05b9fc7a276",
   "metadata": {
    "tags": []
   },
   "source": [
    "# SPEC\n",
    "\n",
    "The most common data source are SPEC files from the original [Certif SPEC](https://certif.com/content/spec) as well as from the open-source alternative [Sardana](https://sardana-controls.org).\n",
    "The `Spec` source relies on the great parser provided by [xrayutilities](https://xrayutilities.sourceforge.io)."
   ]
  },
  {
   "cell_type": "code",
   "execution_count": 4,
   "id": "20aa88a2-fb7a-422a-94f5-332a881147d6",
   "metadata": {},
   "outputs": [
    {
     "name": "stdout",
     "output_type": "stream",
     "text": [
      "pyEvalData.io.source - INFO: Update source\n",
      "pyEvalData.io.source - DEBUG: Updating from h5\n",
      "pyEvalData.io.source - DEBUG: Update before read\n",
      "pyEvalData.io.source - DEBUG: parse_raw\n",
      "pyEvalData.io.scan - DEBUG: Creating scan #33\n",
      "pyEvalData.io.scan - DEBUG: Creating scan #34\n",
      "pyEvalData.io.scan - DEBUG: Creating scan #35\n",
      "pyEvalData.io.scan - DEBUG: Creating scan #36\n",
      "pyEvalData.io.source - DEBUG: save_all_scans_to_h5\n",
      "pyEvalData.io.source - DEBUG: save_scan_to_h5 scan #33\n",
      "pyEvalData.io.source - DEBUG: save_scan_to_h5 scan #34\n",
      "pyEvalData.io.source - DEBUG: save_scan_to_h5 scan #35\n",
      "pyEvalData.io.source - DEBUG: save_scan_to_h5 scan #36\n"
     ]
    }
   ],
   "source": [
    "spec = ped.io.Spec(file_name='certif_xu.spec', file_path='data/')"
   ]
  },
  {
   "cell_type": "code",
   "execution_count": null,
   "id": "97dd6950-308e-483d-9917-cffa63a8b060",
   "metadata": {},
   "outputs": [],
   "source": []
  },
  {
   "cell_type": "code",
   "execution_count": null,
   "id": "fb9018ea-1f5a-47bd-ba84-8ff2cf2525b4",
   "metadata": {},
   "outputs": [],
   "source": []
  },
  {
   "cell_type": "code",
   "execution_count": null,
   "id": "98bc46d4-58c1-40c5-aea9-8d5d1fe053e1",
   "metadata": {},
   "outputs": [],
   "source": []
  },
  {
   "cell_type": "markdown",
   "id": "986e7c2c-71a9-4d18-b03f-aa34d0776c26",
   "metadata": {},
   "source": [
    "## Composite Sources\n",
    "\n",
    "On specific idea of the `Source` class is to provide also composite models of pre-defined `Source` classes.\n",
    "An example is the `Spec` source for reading SPEC data files and a `Source` class to read camera images from a folder structure, that have been acquired simultaneously with the SPEC file.\n",
    "This would require to specify the two independent `Souce` objects and then add them to a single `CompositeSource`:\n",
    "```python\n",
    "spec = ed.io.Spec(file_name, file_path)\n",
    "ccd = ed.io.Pilatus(image_pattern, image_base_path)\n",
    "\n",
    "comp_source = spec + ccd\n",
    "```"
   ]
  },
  {
   "cell_type": "code",
   "execution_count": null,
   "id": "68d8ce66-e151-4584-bdd5-f5af72be5757",
   "metadata": {},
   "outputs": [],
   "source": []
  }
 ],
 "metadata": {
  "kernelspec": {
   "display_name": "Python 3",
   "language": "python",
   "name": "python3"
  },
  "language_info": {
   "codemirror_mode": {
    "name": "ipython",
    "version": 3
   },
   "file_extension": ".py",
   "mimetype": "text/x-python",
   "name": "python",
   "nbconvert_exporter": "python",
   "pygments_lexer": "ipython3",
   "version": "3.8.9"
  }
 },
 "nbformat": 4,
 "nbformat_minor": 5
}
