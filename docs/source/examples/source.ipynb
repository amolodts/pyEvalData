{
 "cells": [
  {
   "cell_type": "markdown",
   "id": "9edefc4c-38bf-4a40-bd85-2d51dd01010a",
   "metadata": {},
   "source": [
    "# Source"
   ]
  },
  {
   "cell_type": "markdown",
   "id": "31cecc5c-58dc-49e3-8c87-a78d613b5cc6",
   "metadata": {},
   "source": [
    "The `Source` class provides an interface and predefined methods for reading raw data from file and, if enabled, saving them in a condensed `hdf5` file.\n",
    "The `evaluation` class should access the actual data for a deticated scan via `source.get_scan_data(scan_number)` or for a list of scans via `source.get_scan_list_data(scan_number_list)`."
   ]
  },
  {
   "cell_type": "code",
   "execution_count": null,
   "id": "f1b38a3e-707d-4fb1-b693-c8f8b4cb1235",
   "metadata": {},
   "outputs": [],
   "source": []
  }
 ],
 "metadata": {
  "kernelspec": {
   "display_name": "Python 3",
   "language": "python",
   "name": "python3"
  },
  "language_info": {
   "codemirror_mode": {
    "name": "ipython",
    "version": 3
   },
   "file_extension": ".py",
   "mimetype": "text/x-python",
   "name": "python",
   "nbconvert_exporter": "python",
   "pygments_lexer": "ipython3",
   "version": "3.8.9"
  }
 },
 "nbformat": 4,
 "nbformat_minor": 5
}
